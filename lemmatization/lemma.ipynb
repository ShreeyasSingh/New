{
 "cells": [
  {
   "cell_type": "markdown",
   "id": "823468a5",
   "metadata": {},
   "source": [
    "Wordnet lemmatizer"
   ]
  },
  {
   "cell_type": "code",
   "execution_count": 2,
   "id": "01ddf801",
   "metadata": {},
   "outputs": [],
   "source": [
    "from nltk.stem import WordNetLemmatizer\n",
    "lemmatizer = WordNetLemmatizer"
   ]
  },
  {
   "cell_type": "code",
   "execution_count": 8,
   "id": "a58e4c6b",
   "metadata": {},
   "outputs": [
    {
     "name": "stderr",
     "output_type": "stream",
     "text": [
      "[nltk_data] Downloading package wordnet to\n",
      "[nltk_data]     C:\\Users\\02ssi\\AppData\\Roaming\\nltk_data...\n",
      "[nltk_data]   Package wordnet is already up-to-date!\n"
     ]
    },
    {
     "name": "stdout",
     "output_type": "stream",
     "text": [
      "go\n"
     ]
    }
   ],
   "source": [
    "import nltk\n",
    "nltk.download('wordnet')\n",
    "lemmatizer = WordNetLemmatizer()\n",
    "print(lemmatizer.lemmatize(\"going\", pos=\"v\"))"
   ]
  },
  {
   "cell_type": "code",
   "execution_count": 9,
   "id": "338a7af4",
   "metadata": {},
   "outputs": [
    {
     "data": {
      "text/plain": [
       "'\\nPos tags:\\nn: noun\\nv: verb\\na: adjective\\nr: adverb\\n'"
      ]
     },
     "execution_count": 9,
     "metadata": {},
     "output_type": "execute_result"
    }
   ],
   "source": [
    "\n",
    "\"\"\"\n",
    "Pos tags:\n",
    "n: noun\n",
    "v: verb\n",
    "a: adjective\n",
    "r: adverb\n",
    "\"\"\""
   ]
  },
  {
   "cell_type": "code",
   "execution_count": 11,
   "id": "268017cc",
   "metadata": {},
   "outputs": [
    {
     "name": "stdout",
     "output_type": "stream",
     "text": [
      "eatings--->eatings\n",
      "eaten--->eat\n",
      "eats--->eat\n",
      "writing--->write\n",
      "writes--->write\n",
      "write--->write\n",
      "programming--->program\n",
      "programmer--->programmer\n",
      "programs--->program\n",
      "history--->history\n",
      "finally--->finally\n",
      "finalize--->finalize\n"
     ]
    }
   ],
   "source": [
    "words = [\"eatings\", \"eaten\", \"eats\", \"writing\", \"writes\", \"write\", \"programming\", \"programmer\", \"programs\", \"history\", \"finally\", \"finalize\"]\n",
    "for word in words:\n",
    "    print(word+\"--->\"+lemmatizer.lemmatize(word,pos=\"v\"))"
   ]
  }
 ],
 "metadata": {
  "kernelspec": {
   "display_name": "Python 3",
   "language": "python",
   "name": "python3"
  },
  "language_info": {
   "codemirror_mode": {
    "name": "ipython",
    "version": 3
   },
   "file_extension": ".py",
   "mimetype": "text/x-python",
   "name": "python",
   "nbconvert_exporter": "python",
   "pygments_lexer": "ipython3",
   "version": "3.12.0"
  }
 },
 "nbformat": 4,
 "nbformat_minor": 5
}
